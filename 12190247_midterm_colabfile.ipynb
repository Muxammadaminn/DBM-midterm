{
  "cells": [
    {
      "cell_type": "markdown",
      "metadata": {
        "nbpages": {
          "level": 2,
          "link": "[3.1.1 Imports](https://jckantor.github.io/ND-Pyomo-Cookbook/03.01-Transportation-Networks.html#3.1.1-Imports)",
          "section": "3.1.1 Imports"
        },
        "id": "V_1khaqFvs-Y"
      },
      "source": [
        "## 12190247 Mid term Colab related file"
      ]
    },
    {
      "cell_type": "code",
      "execution_count": 1,
      "metadata": {
        "colab": {
          "base_uri": "https://localhost:8080/"
        },
        "id": "WdqEo2IbmjQu",
        "nbpages": {
          "level": 2,
          "link": "[3.1.1 Imports](https://jckantor.github.io/ND-Pyomo-Cookbook/03.01-Transportation-Networks.html#3.1.1-Imports)",
          "section": "3.1.1 Imports"
        },
        "pycharm": {},
        "outputId": "187bcce0-9617-49db-ab8f-0738fd4231e8"
      },
      "outputs": [
        {
          "output_type": "stream",
          "name": "stdout",
          "text": [
            "\u001b[K     |████████████████████████████████| 9.7 MB 10.1 MB/s \n",
            "\u001b[K     |████████████████████████████████| 49 kB 5.9 MB/s \n",
            "\u001b[?25hSelecting previously unselected package coinor-libcoinutils3v5.\n",
            "(Reading database ... 123942 files and directories currently installed.)\n",
            "Preparing to unpack .../0-coinor-libcoinutils3v5_2.10.14+repack1-1_amd64.deb ...\n",
            "Unpacking coinor-libcoinutils3v5 (2.10.14+repack1-1) ...\n",
            "Selecting previously unselected package coinor-libosi1v5.\n",
            "Preparing to unpack .../1-coinor-libosi1v5_0.107.9+repack1-1_amd64.deb ...\n",
            "Unpacking coinor-libosi1v5 (0.107.9+repack1-1) ...\n",
            "Selecting previously unselected package coinor-libclp1.\n",
            "Preparing to unpack .../2-coinor-libclp1_1.16.11+repack1-1_amd64.deb ...\n",
            "Unpacking coinor-libclp1 (1.16.11+repack1-1) ...\n",
            "Selecting previously unselected package coinor-libcgl1.\n",
            "Preparing to unpack .../3-coinor-libcgl1_0.59.10+repack1-1_amd64.deb ...\n",
            "Unpacking coinor-libcgl1 (0.59.10+repack1-1) ...\n",
            "Selecting previously unselected package coinor-libcbc3.\n",
            "Preparing to unpack .../4-coinor-libcbc3_2.9.9+repack1-1_amd64.deb ...\n",
            "Unpacking coinor-libcbc3 (2.9.9+repack1-1) ...\n",
            "Selecting previously unselected package coinor-cbc.\n",
            "Preparing to unpack .../5-coinor-cbc_2.9.9+repack1-1_amd64.deb ...\n",
            "Unpacking coinor-cbc (2.9.9+repack1-1) ...\n",
            "Setting up coinor-libcoinutils3v5 (2.10.14+repack1-1) ...\n",
            "Setting up coinor-libosi1v5 (0.107.9+repack1-1) ...\n",
            "Setting up coinor-libclp1 (1.16.11+repack1-1) ...\n",
            "Setting up coinor-libcgl1 (0.59.10+repack1-1) ...\n",
            "Setting up coinor-libcbc3 (2.9.9+repack1-1) ...\n",
            "Setting up coinor-cbc (2.9.9+repack1-1) ...\n",
            "Processing triggers for man-db (2.8.3-2ubuntu0.1) ...\n",
            "Processing triggers for libc-bin (2.27-3ubuntu1.6) ...\n"
          ]
        }
      ],
      "source": [
        "import shutil\n",
        "import sys\n",
        "import os.path\n",
        "\n",
        "if not shutil.which(\"pyomo\"):\n",
        "    !pip install -q pyomo\n",
        "    assert(shutil.which(\"pyomo\"))\n",
        "\n",
        "if not (shutil.which(\"cbc\") or os.path.isfile(\"cbc\")):\n",
        "    if \"google.colab\" in sys.modules:\n",
        "        !apt-get install -y -qq coinor-cbc\n",
        "    else:\n",
        "        try:\n",
        "            !conda install -c conda-forge coincbc \n",
        "        except:\n",
        "            pass\n",
        "\n",
        "assert(shutil.which(\"cbc\") or os.path.isfile(\"cbc\"))\n",
        "    \n",
        "from pyomo.environ import *"
      ]
    },
    {
      "cell_type": "markdown",
      "metadata": {
        "id": "KVTGAB_rmaBR",
        "nbpages": {
          "level": 3,
          "link": "[3.1.3.1 Data File](https://jckantor.github.io/ND-Pyomo-Cookbook/03.01-Transportation-Networks.html#3.1.3.1-Data-File)",
          "section": "3.1.3.1 Data File"
        },
        "pycharm": {}
      },
      "source": [
        "### Data File"
      ]
    },
    {
      "cell_type": "code",
      "execution_count": 2,
      "metadata": {
        "id": "PWTg-VkImaBR",
        "nbpages": {
          "level": 3,
          "link": "[3.1.3.1 Data File](https://jckantor.github.io/ND-Pyomo-Cookbook/03.01-Transportation-Networks.html#3.1.3.1-Data-File)",
          "section": "3.1.3.1 Data File"
        },
        "pycharm": {}
      },
      "outputs": [],
      "source": [
        "Demand = {\n",
        "   'Inch':   125,        # Incheon\n",
        "   'Sel':   175,        # Seoul\n",
        "   'Suw':   225,        # Suwon\n",
        "   'Ams':   250,        # Asan\n",
        "   'Utr':   225,        # Ulsan\n",
        "   'Hag':   200         # Pohang\n",
        "}\n",
        "\n",
        "Supply = {\n",
        "   'Busn':   600,        # Busan\n",
        "   'Mok':   650         # Mokpo\n",
        "}\n",
        "\n",
        "T = {\n",
        "    ('Inch','Busn'): 1000,\n",
        "    ('Inch','Mok'): 2.5,\n",
        "    ('Sel','Busn'): 2.5,\n",
        "    ('Sel','Mok'): 1000,\n",
        "    ('Suw','Busn'): 1.6,\n",
        "    ('Suw','Mok'): 2.0,\n",
        "    ('Ams','Busn'): 1.4,\n",
        "    ('Ams','Mok'): 1.0,\n",
        "    ('Utr','Busn'): 0.8,\n",
        "    ('Utr','Mok'): 1.0,\n",
        "    ('Hag','Busn'): 1.4,\n",
        "    ('Hag','Mok'): 0.8\n",
        "}"
      ]
    },
    {
      "cell_type": "code",
      "execution_count": 3,
      "metadata": {
        "colab": {
          "base_uri": "https://localhost:8080/"
        },
        "id": "cVoqn1ozmaBX",
        "nbpages": {
          "level": 3,
          "link": "[3.1.3.2 Model file](https://jckantor.github.io/ND-Pyomo-Cookbook/03.01-Transportation-Networks.html#3.1.3.2-Model-file)",
          "section": "3.1.3.2 Model file"
        },
        "outputId": "5954ce96-1d4d-449e-e715-3897078dd63d",
        "pycharm": {}
      },
      "outputs": [
        {
          "output_type": "stream",
          "name": "stdout",
          "text": [
            "# ==========================================================\n",
            "# = Solver Results                                         =\n",
            "# ==========================================================\n",
            "# ----------------------------------------------------------\n",
            "#   Problem Information\n",
            "# ----------------------------------------------------------\n",
            "Problem: \n",
            "- Name: unknown\n",
            "  Lower bound: 1705.0\n",
            "  Upper bound: 1705.0\n",
            "  Number of objectives: 1\n",
            "  Number of constraints: 9\n",
            "  Number of variables: 13\n",
            "  Number of nonzeros: 6\n",
            "  Sense: minimize\n",
            "# ----------------------------------------------------------\n",
            "#   Solver Information\n",
            "# ----------------------------------------------------------\n",
            "Solver: \n",
            "- Status: ok\n",
            "  User time: -1.0\n",
            "  System time: 0.0\n",
            "  Wallclock time: 0.0\n",
            "  Termination condition: optimal\n",
            "  Termination message: Model was solved to optimality (subject to tolerances), and an optimal solution is available.\n",
            "  Statistics: \n",
            "    Branch and bound: \n",
            "      Number of bounded subproblems: None\n",
            "      Number of created subproblems: None\n",
            "    Black box: \n",
            "      Number of iterations: 1\n",
            "  Error rc: 0\n",
            "  Time: 0.04561424255371094\n",
            "# ----------------------------------------------------------\n",
            "#   Solution Information\n",
            "# ----------------------------------------------------------\n",
            "Solution: \n",
            "- number of solutions: 0\n",
            "  number of solutions displayed: 0\n"
          ]
        }
      ],
      "source": [
        "# Step 0: Create an instance of the model\n",
        "model = ConcreteModel()\n",
        "model.dual = Suffix(direction=Suffix.IMPORT)\n",
        "\n",
        "# Step 1: Define index sets\n",
        "CUS = list(Demand.keys())\n",
        "SRC = list(Supply.keys())\n",
        "\n",
        "# Step 2: Define the decision \n",
        "model.x = Var(CUS, SRC, domain = NonNegativeReals)\n",
        "\n",
        "# Step 3: Define Objective\n",
        "model.Cost = Objective(\n",
        "    expr = sum([T[c,s]*model.x[c,s] for c in CUS for s in SRC]),\n",
        "    sense = minimize)\n",
        "\n",
        "# Step 4: Constraints\n",
        "model.src = ConstraintList()\n",
        "for s in SRC:\n",
        "    model.src.add(sum([model.x[c,s] for c in CUS]) <= Supply[s])\n",
        "        \n",
        "model.dmd = ConstraintList()\n",
        "for c in CUS:\n",
        "    model.dmd.add(sum([model.x[c,s] for s in SRC]) == Demand[c])\n",
        "    \n",
        "results = SolverFactory('cbc').solve(model)\n",
        "results.write()"
      ]
    },
    {
      "cell_type": "code",
      "execution_count": 4,
      "metadata": {
        "colab": {
          "base_uri": "https://localhost:8080/"
        },
        "id": "c9oQxQsxmaBe",
        "nbpages": {
          "level": 2,
          "link": "[3.1.4 Solution](https://jckantor.github.io/ND-Pyomo-Cookbook/03.01-Transportation-Networks.html#3.1.4-Solution)",
          "section": "3.1.4 Solution"
        },
        "outputId": "fe20fe03-a1cb-4448-be91-b10d22855c10",
        "pycharm": {}
      },
      "outputs": [
        {
          "output_type": "stream",
          "name": "stdout",
          "text": [
            "Inch Busn 0.0\n",
            "Inch Mok 125.0\n",
            "Sel Busn 175.0\n",
            "Sel Mok 0.0\n",
            "Suw Busn 225.0\n",
            "Suw Mok 0.0\n",
            "Ams Busn 0.0\n",
            "Ams Mok 250.0\n",
            "Utr Busn 200.0\n",
            "Utr Mok 25.0\n",
            "Hag Busn 0.0\n",
            "Hag Mok 200.0\n"
          ]
        }
      ],
      "source": [
        "for c in CUS:\n",
        "    for s in SRC:\n",
        "        print(c, s, model.x[c,s]())"
      ]
    },
    {
      "cell_type": "code",
      "execution_count": 5,
      "metadata": {
        "colab": {
          "base_uri": "https://localhost:8080/"
        },
        "id": "dfLXRj7umaBz",
        "nbpages": {
          "level": 2,
          "link": "[3.1.4 Solution](https://jckantor.github.io/ND-Pyomo-Cookbook/03.01-Transportation-Networks.html#3.1.4-Solution)",
          "section": "3.1.4 Solution"
        },
        "outputId": "162933ea-a52d-43b8-ca63-92e1df8b37ef",
        "pycharm": {}
      },
      "outputs": [
        {
          "output_type": "stream",
          "name": "stdout",
          "text": [
            "Total Shipping Costs =  1705.0\n",
            "\n",
            "Shipping Table:\n",
            "Ship from  Busn  to  Sel : 175.0\n",
            "Ship from  Busn  to  Suw : 225.0\n",
            "Ship from  Busn  to  Utr : 200.0\n",
            "Ship from  Mok  to  Inch : 125.0\n",
            "Ship from  Mok  to  Ams : 250.0\n",
            "Ship from  Mok  to  Utr : 25.0\n",
            "Ship from  Mok  to  Hag : 200.0\n"
          ]
        }
      ],
      "source": [
        "if 'ok' == str(results.Solver.status):\n",
        "    print(\"Total Shipping Costs = \",model.Cost())\n",
        "    print(\"\\nShipping Table:\")\n",
        "    for s in SRC:\n",
        "        for c in CUS:\n",
        "            if model.x[c,s]() > 0:\n",
        "                print(\"Ship from \", s,\" to \", c, \":\", model.x[c,s]())\n",
        "else:\n",
        "    print(\"No Valid Solution Found\")"
      ]
    },
    {
      "cell_type": "code",
      "execution_count": 6,
      "metadata": {
        "colab": {
          "base_uri": "https://localhost:8080/"
        },
        "id": "eq7tLE9FmaB6",
        "nbpages": {
          "level": 3,
          "link": "[3.1.5.1 Analysis by source](https://jckantor.github.io/ND-Pyomo-Cookbook/03.01-Transportation-Networks.html#3.1.5.1-Analysis-by-source)",
          "section": "3.1.5.1 Analysis by source"
        },
        "outputId": "88ab04af-201a-468a-dc8f-258beda47db5",
        "pycharm": {}
      },
      "outputs": [
        {
          "output_type": "stream",
          "name": "stdout",
          "text": [
            "\n",
            "Sources:\n",
            "Source      Capacity   Shipped    Margin\n",
            "Busn           600.0     600.0   -0.2000\n",
            "Mok            650.0     600.0    0.0000\n"
          ]
        }
      ],
      "source": [
        "if 'ok' == str(results.Solver.status):\n",
        "    print(\"\\nSources:\")\n",
        "    print(\"Source      Capacity   Shipped    Margin\")\n",
        "    for m in model.src.keys():\n",
        "        s = SRC[m-1]\n",
        "        print(\"{0:10s}{1:10.1f}{2:10.1f}{3:10.4f}\".format(s,Supply[s],model.src[m](),model.dual[model.src[m]]))\n",
        "else:\n",
        "    print(\"No Valid Solution Found\")"
      ]
    },
    {
      "cell_type": "code",
      "execution_count": 7,
      "metadata": {
        "colab": {
          "base_uri": "https://localhost:8080/"
        },
        "id": "EQLauqn0maB_",
        "nbpages": {
          "level": 3,
          "link": "[3.1.5.2 Analysis by customer](https://jckantor.github.io/ND-Pyomo-Cookbook/03.01-Transportation-Networks.html#3.1.5.2-Analysis-by-customer)",
          "section": "3.1.5.2 Analysis by customer"
        },
        "outputId": "4a6b065d-b8ef-4683-b6f3-e5e2788ad6b2",
        "pycharm": {}
      },
      "outputs": [
        {
          "output_type": "stream",
          "name": "stdout",
          "text": [
            "\n",
            "Customers:\n",
            "Customer      Demand   Shipped    Margin\n",
            "Inch           125.0     125.0    2.5000\n",
            "Sel            175.0     175.0    2.7000\n",
            "Suw            225.0     225.0    1.8000\n",
            "Ams            250.0     250.0    1.0000\n",
            "Utr            225.0     225.0    1.0000\n",
            "Hag            200.0     200.0    0.8000\n"
          ]
        }
      ],
      "source": [
        "if 'ok' == str(results.Solver.status):    \n",
        "    print(\"\\nCustomers:\")\n",
        "    print(\"Customer      Demand   Shipped    Margin\")\n",
        "    for n in model.dmd.keys():\n",
        "        c = CUS[n-1]\n",
        "        print(\"{0:10s}{1:10.1f}{2:10.1f}{3:10.4f}\".format(c,Demand[c],model.dmd[n](),model.dual[model.dmd[n]]))\n",
        "else:\n",
        "    print(\"No Valid Solution Found\")"
      ]
    }
  ],
  "metadata": {
    "colab": {
      "collapsed_sections": [],
      "name": "03.01-Transportation-Networks.ipynb",
      "provenance": []
    },
    "kernelspec": {
      "display_name": "Python 3",
      "language": "python",
      "name": "python3"
    },
    "language_info": {
      "codemirror_mode": {
        "name": "ipython",
        "version": 3
      },
      "file_extension": ".py",
      "mimetype": "text/x-python",
      "name": "python",
      "nbconvert_exporter": "python",
      "pygments_lexer": "ipython3",
      "version": "3.7.3"
    }
  },
  "nbformat": 4,
  "nbformat_minor": 0
}